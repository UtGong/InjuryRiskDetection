{
 "cells": [
  {
   "cell_type": "markdown",
   "metadata": {},
   "source": [
    "# Scaling, Inverse Kinematics and Inverse Dynamics"
   ]
  },
  {
   "cell_type": "code",
   "execution_count": 1,
   "metadata": {},
   "outputs": [],
   "source": [
    "import opensim as osim"
   ]
  },
  {
   "cell_type": "code",
   "execution_count": null,
   "metadata": {},
   "outputs": [
    {
     "name": "stdout",
     "output_type": "stream",
     "text": [
      "Downloading...\n",
      "From: https://drive.google.com/uc?id=1Yx2FnMYRRcass9UEuGeVu1VYtZuzzWC2&confirm=t\n",
      "To: /home/ubuntu/injury_detection/jupyter_notebooks/IK&ID/gait2354_simbody.osim\n",
      "100%|████████████████████████████████████████| 333k/333k [00:00<00:00, 2.95MB/s]\n"
     ]
    }
   ],
   "source": [
    "!gdown \"1Yx2FnMYRRcass9UEuGeVu1VYtZuzzWC2&confirm=t\" # gait2354_simbody.osim"
   ]
  },
  {
   "cell_type": "code",
   "execution_count": 3,
   "metadata": {},
   "outputs": [
    {
     "name": "stdout",
     "output_type": "stream",
     "text": [
      "[info] Updating Model file from 20303 to latest format...\n",
      "Name of the model: 3DGaitModel2354\n",
      "[info] Loaded model 3DGaitModel2354 from file gait2354_simbody.osim\n",
      "[warning] Couldn't find file 'sacrum.vtp'.\n",
      "[warning] Couldn't find file 'pelvis.vtp'.\n",
      "[warning] Couldn't find file 'l_pelvis.vtp'.\n",
      "[warning] Couldn't find file 'femur_r.vtp'.\n",
      "[warning] Couldn't find file 'tibia_r.vtp'.\n",
      "[warning] Couldn't find file 'fibula.vtp'.\n",
      "[warning] Couldn't find file 'talus.vtp'.\n",
      "[warning] Couldn't find file 'foot.vtp'.\n",
      "[warning] Couldn't find file 'bofoot.vtp'.\n",
      "[warning] Couldn't find file 'femur_l.vtp'.\n",
      "[warning] Couldn't find file 'tibia_l.vtp'.\n",
      "[warning] Couldn't find file 'l_fibula.vtp'.\n",
      "[warning] Couldn't find file 'l_talus.vtp'.\n",
      "[warning] Couldn't find file 'l_foot.vtp'.\n",
      "[warning] Couldn't find file 'l_bofoot.vtp'.\n",
      "[warning] Couldn't find file 'hat_spine.vtp'.\n",
      "[warning] Couldn't find file 'hat_jaw.vtp'.\n",
      "[warning] Couldn't find file 'hat_skull.vtp'.\n",
      "[warning] Couldn't find file 'hat_ribs.vtp'.\n",
      "[info] ControllerSet 'Controllers' was renamed and is being reset to 'controllerset'.\n",
      "[info] ComponentSet 'MiscComponents' was renamed and is being reset to 'componentset'.\n"
     ]
    }
   ],
   "source": [
    "# Load the model.\n",
    "gait2354 = osim.Model('gait2354_simbody.osim')\n",
    "print(\"Name of the model:\", gait2354.getName())"
   ]
  },
  {
   "cell_type": "markdown",
   "metadata": {},
   "source": [
    "## Scale the mode"
   ]
  },
  {
   "cell_type": "code",
   "execution_count": 4,
   "metadata": {},
   "outputs": [
    {
     "name": "stdout",
     "output_type": "stream",
     "text": [
      "Downloading...\n",
      "From: https://drive.google.com/uc?id=1sA7Oy1IACT7AC6hugkSgLVG4qextVRXV&confirm=t\n",
      "To: /home/ubuntu/injury_detection/jupyter_notebooks/IK&ID/gait2354_Setup_Scale.xml\n",
      "100%|██████████████████████████████████████| 31.2k/31.2k [00:00<00:00, 1.05MB/s]\n"
     ]
    }
   ],
   "source": [
    "# Configuration file that contains pre-configured settings to scale and register the generic gait2354 musculoskeletal model to the dimensions of a subject for which we have experimental data\n",
    "!gdown \"1sA7Oy1IACT7AC6hugkSgLVG4qextVRXV&confirm=t\" # gait2354_Setup_Scale.xml"
   ]
  },
  {
   "cell_type": "code",
   "execution_count": 5,
   "metadata": {},
   "outputs": [
    {
     "name": "stdout",
     "output_type": "stream",
     "text": [
      "Downloading...\n",
      "From: https://drive.google.com/uc?id=1A51LoChvudI4j1Cg_6qj2Kw6e5gEmLT0&confirm=t\n",
      "To: /home/ubuntu/injury_detection/jupyter_notebooks/IK&ID/gait2354_Scale_MarkerSet.xml\n",
      "100%|██████████████████████████████████████| 55.2k/55.2k [00:00<00:00, 1.10MB/s]\n"
     ]
    }
   ],
   "source": [
    "# MarketSet file which defines the position of the markers used when capturing experimental data\n",
    "!gdown \"1A51LoChvudI4j1Cg_6qj2Kw6e5gEmLT0&confirm=t\" # gait2354_Scale_MarkerSet.xml"
   ]
  },
  {
   "cell_type": "code",
   "execution_count": 6,
   "metadata": {},
   "outputs": [
    {
     "name": "stdout",
     "output_type": "stream",
     "text": [
      "Downloading...\n",
      "From: https://drive.google.com/uc?id=1D36gSJWCUR-XgGMN2aQngQSVg9pd5gQf&confirm=t\n",
      "To: /home/ubuntu/injury_detection/jupyter_notebooks/IK&ID/subject01_static.trc\n",
      "100%|████████████████████████████████████████| 496k/496k [00:00<00:00, 3.62MB/s]\n"
     ]
    }
   ],
   "source": [
    "# Marker File that provides information about the position of the markers during the static trial, which is a trial in a known pose and not moving and is a typical trial used for the scaling step\n",
    "!gdown \"1D36gSJWCUR-XgGMN2aQngQSVg9pd5gQf&confirm=t\" # subject01_static.trc"
   ]
  },
  {
   "cell_type": "markdown",
   "metadata": {},
   "source": [
    "## Create scale tool"
   ]
  },
  {
   "cell_type": "code",
   "execution_count": 7,
   "metadata": {},
   "outputs": [
    {
     "name": "stdout",
     "output_type": "stream",
     "text": [
      "Name: subject01\n",
      "Subject Mass: 72.6\n",
      "Subject Height: 1803.4\n",
      "Notes: This is an example setup file for scale.exe.\n",
      "\n",
      "Marker Set File Name: gait2354_Scale_MarkerSet.xml\n",
      "\n",
      "Marker Placer File Name: subject01_static.trc\n"
     ]
    }
   ],
   "source": [
    "# Create a ScaleTool object using the configuration file.\n",
    "scale_tool = osim.ScaleTool('gait2354_Setup_Scale.xml')\n",
    "\n",
    "# Print some information of the config file to test everything is correct.\n",
    "print(\"Name:\", scale_tool.getName())\n",
    "print(\"Subject Mass:\", scale_tool.getSubjectMass())\n",
    "print(\"Subject Height:\", scale_tool.getSubjectHeight())\n",
    "print(\"Notes:\", scale_tool.getPropertyByName(\"notes\").toString())\n",
    "print()\n",
    "\n",
    "# Get model marker file name.\n",
    "generic_model_maker = scale_tool.getGenericModelMaker()\n",
    "print(\"Marker Set File Name:\", generic_model_maker.getMarkerSetFileName())\n",
    "print()\n",
    "\n",
    "# Get marker file name.\n",
    "marker_placer = scale_tool.getMarkerPlacer()\n",
    "print(\"Marker Placer File Name:\", marker_placer.getMarkerFileName())"
   ]
  },
  {
   "cell_type": "code",
   "execution_count": 8,
   "metadata": {},
   "outputs": [
    {
     "data": {
      "text/plain": [
       "True"
      ]
     },
     "execution_count": 8,
     "metadata": {},
     "output_type": "execute_result"
    },
    {
     "name": "stdout",
     "output_type": "stream",
     "text": [
      "[info] Processing subject subject01...\n",
      "[info] Step 1: Loading generic model\n",
      "[info] Updating Model file from 20303 to latest format...\n",
      "[info] Loaded model 3DGaitModel2354 from file /home/ubuntu/injury_detection/jupyter_notebooks/IK&ID/gait2354_simbody.osim\n",
      "[warning] Couldn't find file 'sacrum.vtp'.\n",
      "[warning] Couldn't find file 'pelvis.vtp'.\n",
      "[warning] Couldn't find file 'l_pelvis.vtp'.\n",
      "[warning] Couldn't find file 'femur_r.vtp'.\n",
      "[warning] Couldn't find file 'tibia_r.vtp'.\n",
      "[warning] Couldn't find file 'fibula.vtp'.\n",
      "[warning] Couldn't find file 'talus.vtp'.\n",
      "[warning] Couldn't find file 'foot.vtp'.\n",
      "[warning] Couldn't find file 'bofoot.vtp'.\n",
      "[warning] Couldn't find file 'femur_l.vtp'.\n",
      "[warning] Couldn't find file 'tibia_l.vtp'.\n",
      "[warning] Couldn't find file 'l_fibula.vtp'.\n",
      "[warning] Couldn't find file 'l_talus.vtp'.\n",
      "[warning] Couldn't find file 'l_foot.vtp'.\n",
      "[warning] Couldn't find file 'l_bofoot.vtp'.\n",
      "[warning] Couldn't find file 'hat_spine.vtp'.\n",
      "[warning] Couldn't find file 'hat_jaw.vtp'.\n",
      "[warning] Couldn't find file 'hat_skull.vtp'.\n",
      "[warning] Couldn't find file 'hat_ribs.vtp'.\n",
      "[info] ControllerSet 'Controllers' was renamed and is being reset to 'controllerset'.\n",
      "[info] ComponentSet 'MiscComponents' was renamed and is being reset to 'componentset'.\n",
      "[info] Loading marker set from 'gait2354_Scale_MarkerSet.xml'.\n",
      "[info] Updated markers in model 3DGaitModel2354\n",
      "[info] Step 2: Scaling generic model\n",
      "[info] Loaded marker file subject01_static.trc (49 markers, 300 frames)\n",
      "[info] Measurement 'torso'\n",
      "[info] \tpair 0 (V.Sacral, Top.Head): model = 0.701084, experimental = 0.756975\n",
      "[info] \toverall scale factor = 1.07972\n",
      "[info] Measurement 'pelvis'\n",
      "[info] \tpair 0 (R.ASIS, L.ASIS): model = 0.256, experimental = 0.262292\n",
      "[info] \toverall scale factor = 1.02458\n",
      "[info] Measurement 'thigh'\n",
      "[info] \tpair 0 (R.ASIS, R.Knee.Lat): model = 0.508288, experimental = 0.538738\n",
      "[info] \tpair 1 (L.ASIS, L.Knee.Lat): model = 0.508288, experimental = 0.549642\n",
      "[info] \toverall scale factor = 1.07063\n",
      "[info] Measurement 'shank'\n",
      "[info] \tpair 0 (R.Knee.Lat, R.Ankle.Lat): model = 0.401944, experimental = 0.458672\n",
      "[info] \tpair 1 (L.Knee.Lat, L.Ankle.Lat): model = 0.401944, experimental = 0.436842\n",
      "[info] \toverall scale factor = 1.11398\n",
      "[info] Measurement 'foot'\n",
      "[info] \tpair 0 (R.Heel, R.Toe.Tip): model = 0.280401, experimental = 0.291576\n",
      "[info] \tpair 1 (L.Heel, L.Toe.Tip): model = 0.280401, experimental = 0.284416\n",
      "[info] \toverall scale factor = 1.02708\n",
      "[info] Wrote model file 'subject01_scaledOnly.osim' from model.\n",
      "[info] Wrote scale file 'subject01_scaleSet_applied.xml' for model subject01.\n",
      "[info] Step 3: Placing markers on model\n",
      "[info] Loaded marker file subject01_static.trc (49 markers, 300 frames)\n",
      "[info] Averaged frames from time 1.0 to 1.01 in subject01_static.trc (frames 61 to 62)\n",
      "[info] Deleted 0 unused markers from model subject01.\n",
      "[info] Frame at (t = 1.0):\t total squared error = 0.0427375, marker error: RMS = 0.0331034, max = 0.092128 (Top.Head)\n",
      "[info] Moved markers in model subject01 to match locations in marker file 'subject01_static.trc'.\n",
      "[info] Wrote model file 'subject01_simbody.osim' from model subject01.\n"
     ]
    }
   ],
   "source": [
    "scale_tool.run()"
   ]
  },
  {
   "cell_type": "markdown",
   "metadata": {},
   "source": [
    "## Inverse Kinematics"
   ]
  },
  {
   "cell_type": "markdown",
   "metadata": {},
   "source": [
    "### Download the configuration file for the Inverse Kinematics tool"
   ]
  },
  {
   "cell_type": "code",
   "execution_count": 9,
   "metadata": {},
   "outputs": [
    {
     "name": "stdout",
     "output_type": "stream",
     "text": [
      "Downloading...\n",
      "From: https://drive.google.com/uc?id=1eA10HYwolFzjHyPGzgOOmC48wK8ExSdS&confirm=t\n",
      "To: /home/ubuntu/injury_detection/jupyter_notebooks/IK&ID/subject01_Setup_IK.xml\n",
      "100%|██████████████████████████████████████| 13.8k/13.8k [00:00<00:00, 28.0MB/s]\n"
     ]
    }
   ],
   "source": [
    "# xml configuration file\n",
    "!gdown \"1eA10HYwolFzjHyPGzgOOmC48wK8ExSdS&confirm=t\" # subject01_Setup_IK.xml"
   ]
  },
  {
   "cell_type": "code",
   "execution_count": 10,
   "metadata": {},
   "outputs": [
    {
     "name": "stdout",
     "output_type": "stream",
     "text": [
      "Downloading...\n",
      "From: https://drive.google.com/uc?id=1QvjMuzvU1afgJ9aeCEb1Zgh9XZvo9oz7&confirm=t\n",
      "To: /home/ubuntu/injury_detection/jupyter_notebooks/IK&ID/subject01_walk1.trc\n",
      "100%|████████████████████████████████████████| 209k/209k [00:00<00:00, 1.89MB/s]\n"
     ]
    }
   ],
   "source": [
    "# marker file\n",
    "!gdown \"1QvjMuzvU1afgJ9aeCEb1Zgh9XZvo9oz7&confirm=t\" # subject01_walk1.trc"
   ]
  },
  {
   "cell_type": "code",
   "execution_count": 11,
   "metadata": {},
   "outputs": [
    {
     "name": "stdout",
     "output_type": "stream",
     "text": [
      "Name: subject01\n",
      "Model File: subject01_simbody.osim\n",
      "Marker File: subject01_walk1.trc\n",
      "Accuracy: 1e-05\n",
      "Time Range: [ 0.4 , 1.6 ]\n",
      "Constraint Weight: 20.0\n",
      "\n",
      "Weights:\n",
      "Sternum\n",
      "1.0\n",
      "\n",
      "R.Acromium\n",
      "0.5\n",
      "\n",
      "L.Acromium\n",
      "0.5\n",
      "\n",
      "Top.Head\n",
      "0.1\n",
      "\n",
      "R.ASIS\n",
      "10.0\n",
      "\n",
      "L.ASIS\n",
      "10.0\n",
      "\n",
      "V.Sacral\n",
      "10.0\n",
      "\n",
      "R.Thigh.Upper\n",
      "1.0\n",
      "\n",
      "R.Thigh.Front\n",
      "1.0\n",
      "\n",
      "R.Thigh.Rear\n",
      "1.0\n",
      "\n",
      "R.Shank.Upper\n",
      "1.0\n",
      "\n",
      "R.Shank.Front\n",
      "1.0\n",
      "\n",
      "R.Shank.Rear\n",
      "1.0\n",
      "\n",
      "R.Heel\n",
      "10.0\n",
      "\n",
      "R.Midfoot.Sup\n",
      "1.0\n",
      "\n",
      "R.Midfoot.Lat\n",
      "1.0\n",
      "\n",
      "R.Toe.Lat\n",
      "1.0\n",
      "\n",
      "R.Toe.Med\n",
      "1.0\n",
      "\n",
      "R.Toe.Tip\n",
      "10.0\n",
      "\n",
      "L.Thigh.Upper\n",
      "1.0\n",
      "\n",
      "L.Thigh.Front\n",
      "1.0\n",
      "\n",
      "L.Thigh.Rear\n",
      "1.0\n",
      "\n",
      "L.Shank.Upper\n",
      "1.0\n",
      "\n",
      "L.Shank.Front\n",
      "1.0\n",
      "\n",
      "L.Shank.Rear\n",
      "1.0\n",
      "\n",
      "L.Heel\n",
      "10.0\n",
      "\n",
      "L.Midfoot.Sup\n",
      "1.0\n",
      "\n",
      "L.Midfoot.Lat\n",
      "1.0\n",
      "\n",
      "L.Toe.Lat\n",
      "1.0\n",
      "\n",
      "L.Toe.Med\n",
      "1.0\n",
      "\n",
      "L.Toe.Tip\n",
      "10.0\n",
      "\n",
      "subtalar_angle_r\n",
      "1000.0\n",
      "\n",
      "mtp_angle_r\n",
      "1000.0\n",
      "\n",
      "subtalar_angle_l\n",
      "1000.0\n",
      "\n",
      "mtp_angle_l\n",
      "1000.0\n",
      "\n"
     ]
    }
   ],
   "source": [
    "# Create an IK object using the configuration file.\n",
    "inverse_kinematics_tool = osim.InverseKinematicsTool('subject01_Setup_IK.xml')\n",
    "\n",
    "# Print some information of the config file to check that everything is correct.\n",
    "print(\"Name:\", inverse_kinematics_tool.getName())\n",
    "print(\"Model File:\", inverse_kinematics_tool.get_model_file())\n",
    "print(\"Marker File:\", inverse_kinematics_tool.get_marker_file())\n",
    "print(\"Accuracy:\", inverse_kinematics_tool.get_accuracy())\n",
    "print(\"Time Range: [\", inverse_kinematics_tool.get_time_range(0), \",\", inverse_kinematics_tool.get_time_range(1), \"]\")\n",
    "print(\"Constraint Weight:\", inverse_kinematics_tool.get_constraint_weight())\n",
    "print()\n",
    "\n",
    "# Print weights information\n",
    "print(\"Weights:\")\n",
    "task_set = inverse_kinematics_tool.get_IKTaskSet()\n",
    "for i in range(task_set.getSize()):\n",
    "  task = task_set.get(i)\n",
    "  print(task.getName())\n",
    "  print(task.getWeight())\n",
    "  print()"
   ]
  },
  {
   "cell_type": "code",
   "execution_count": 12,
   "metadata": {},
   "outputs": [
    {
     "name": "stdout",
     "output_type": "stream",
     "text": [
      "[info] Loaded model subject01 from file subject01_simbody.osim\n",
      "[warning] Couldn't find file 'sacrum.vtp'.\n",
      "[warning] Couldn't find file 'pelvis.vtp'.\n",
      "[warning] Couldn't find file 'l_pelvis.vtp'.\n",
      "[warning] Couldn't find file 'femur_r.vtp'.\n",
      "[warning] Couldn't find file 'tibia_r.vtp'.\n",
      "[warning] Couldn't find file 'fibula.vtp'.\n",
      "[warning] Couldn't find file 'talus.vtp'.\n",
      "[warning] Couldn't find file 'foot.vtp'.\n",
      "[warning] Couldn't find file 'bofoot.vtp'.\n",
      "[warning] Couldn't find file 'femur_l.vtp'.\n",
      "[warning] Couldn't find file 'tibia_l.vtp'.\n",
      "[warning] Couldn't find file 'l_fibula.vtp'.\n",
      "[warning] Couldn't find file 'l_talus.vtp'.\n",
      "[warning] Couldn't find file 'l_foot.vtp'.\n",
      "[warning] Couldn't find file 'l_bofoot.vtp'.\n",
      "[warning] Couldn't find file 'hat_spine.vtp'.\n",
      "[warning] Couldn't find file 'hat_jaw.vtp'.\n",
      "[warning] Couldn't find file 'hat_skull.vtp'.\n",
      "[warning] Couldn't find file 'hat_ribs.vtp'.\n",
      "\n",
      "               MODEL: subject01\n",
      "         coordinates: 23\n",
      "              forces: 54\n",
      "           actuators: 54\n",
      "             muscles: 54\n",
      "            analyses: 0\n",
      "              probes: 0\n",
      "              bodies: 12\n",
      "              joints: 12\n",
      "         constraints: 0\n",
      "             markers: 39\n",
      "         controllers: 0\n",
      "  contact geometries: 0\n",
      "misc modelcomponents: 0\n",
      "[info] Running tool subject01.\n",
      "[info] Frame 24 (t = 0.4):\t total squared error = 0.013684, marker error: RMS = 0.0210099, max = 0.0787261 (R.Acromium)\n",
      "[info] Frame 25 (t = 0.417):\t total squared error = 0.0136719, marker error: RMS = 0.0210007, max = 0.0783866 (R.Acromium)\n",
      "[info] Frame 26 (t = 0.433):\t total squared error = 0.0138489, marker error: RMS = 0.0211362, max = 0.0779643 (R.Acromium)\n",
      "[info] Frame 27 (t = 0.45):\t total squared error = 0.0140450, marker error: RMS = 0.0212853, max = 0.0775512 (R.Acromium)\n",
      "[info] Frame 28 (t = 0.467):\t total squared error = 0.0142685, marker error: RMS = 0.021454, max = 0.0781623 (R.Acromium)\n",
      "[info] Frame 29 (t = 0.483):\t total squared error = 0.0142646, marker error: RMS = 0.0214511, max = 0.0779879 (R.Acromium)\n",
      "[info] Frame 30 (t = 0.5):\t total squared error = 0.0142149, marker error: RMS = 0.0214137, max = 0.0787764 (R.Acromium)\n",
      "[info] Frame 31 (t = 0.517):\t total squared error = 0.0140262, marker error: RMS = 0.0212711, max = 0.0787184 (R.Acromium)\n",
      "[info] Frame 32 (t = 0.533):\t total squared error = 0.0139371, marker error: RMS = 0.0212034, max = 0.0786615 (R.Acromium)\n",
      "[info] Frame 33 (t = 0.55):\t total squared error = 0.0138929, marker error: RMS = 0.0211697, max = 0.0788948 (R.Acromium)\n",
      "[info] Frame 34 (t = 0.567):\t total squared error = 0.0141158, marker error: RMS = 0.0213389, max = 0.0789192 (R.Acromium)\n",
      "[info] Frame 35 (t = 0.583):\t total squared error = 0.0144722, marker error: RMS = 0.0216066, max = 0.0786953 (R.Acromium)\n",
      "[info] Frame 36 (t = 0.6):\t total squared error = 0.014848, marker error: RMS = 0.0218853, max = 0.0791023 (R.Acromium)\n",
      "[info] Frame 37 (t = 0.617):\t total squared error = 0.0156812, marker error: RMS = 0.022491, max = 0.0803082 (R.Acromium)\n",
      "[info] Frame 38 (t = 0.633):\t total squared error = 0.0166097, marker error: RMS = 0.0231473, max = 0.0815791 (R.Acromium)\n",
      "[info] Frame 39 (t = 0.65):\t total squared error = 0.0171437, marker error: RMS = 0.0235164, max = 0.0828486 (R.Acromium)\n",
      "[info] Frame 40 (t = 0.667):\t total squared error = 0.0171259, marker error: RMS = 0.0235042, max = 0.083681 (R.Acromium)\n",
      "[info] Frame 41 (t = 0.683):\t total squared error = 0.0171536, marker error: RMS = 0.0235232, max = 0.0843256 (R.Acromium)\n",
      "[info] Frame 42 (t = 0.7):\t total squared error = 0.0172146, marker error: RMS = 0.023565, max = 0.0837883 (R.Acromium)\n",
      "[info] Frame 43 (t = 0.717):\t total squared error = 0.0172847, marker error: RMS = 0.023613, max = 0.0835457 (R.Acromium)\n",
      "[info] Frame 44 (t = 0.733):\t total squared error = 0.0170934, marker error: RMS = 0.0234819, max = 0.0824032 (R.Acromium)\n",
      "[info] Frame 45 (t = 0.75):\t total squared error = 0.0167422, marker error: RMS = 0.0232394, max = 0.0829212 (R.Acromium)\n",
      "[info] Frame 46 (t = 0.767):\t total squared error = 0.0159202, marker error: RMS = 0.0226618, max = 0.0813476 (R.Acromium)\n",
      "[info] Frame 47 (t = 0.783):\t total squared error = 0.0143432, marker error: RMS = 0.0215101, max = 0.0801447 (R.Acromium)\n",
      "[info] Frame 48 (t = 0.8):\t total squared error = 0.0132341, marker error: RMS = 0.0206617, max = 0.0791080 (R.Acromium)\n",
      "[info] Frame 49 (t = 0.817):\t total squared error = 0.0124492, marker error: RMS = 0.0200396, max = 0.0785348 (R.Acromium)\n",
      "[info] Frame 50 (t = 0.833):\t total squared error = 0.0121697, marker error: RMS = 0.0198134, max = 0.0777050 (R.Acromium)\n",
      "[info] Frame 51 (t = 0.85):\t total squared error = 0.0126436, marker error: RMS = 0.0201955, max = 0.0776284 (R.Acromium)\n",
      "[info] Frame 52 (t = 0.867):\t total squared error = 0.0133692, marker error: RMS = 0.0207669, max = 0.0772542 (R.Acromium)\n",
      "[info] Frame 53 (t = 0.883):\t total squared error = 0.0136984, marker error: RMS = 0.0210210, max = 0.0771656 (R.Acromium)\n",
      "[info] Frame 54 (t = 0.9):\t total squared error = 0.0132542, marker error: RMS = 0.0206774, max = 0.0766891 (R.Acro"
     ]
    },
    {
     "data": {
      "text/plain": [
       "True"
      ]
     },
     "execution_count": 12,
     "metadata": {},
     "output_type": "execute_result"
    },
    {
     "name": "stdout",
     "output_type": "stream",
     "text": [
      "mium)\n",
      "[info] Frame 55 (t = 0.917):\t total squared error = 0.0130518, marker error: RMS = 0.0205190, max = 0.0771217 (R.Acromium)\n",
      "[info] Frame 56 (t = 0.933):\t total squared error = 0.012946, marker error: RMS = 0.0204356, max = 0.0762079 (R.Acromium)\n",
      "[info] Frame 57 (t = 0.95):\t total squared error = 0.0130268, marker error: RMS = 0.0204992, max = 0.0751507 (R.Acromium)\n",
      "[info] Frame 58 (t = 0.967):\t total squared error = 0.0132767, marker error: RMS = 0.0206949, max = 0.0750855 (R.Acromium)\n",
      "[info] Frame 59 (t = 0.983):\t total squared error = 0.0135785, marker error: RMS = 0.0209288, max = 0.0758743 (R.Acromium)\n",
      "[info] Frame 60 (t = 1.0):\t total squared error = 0.0134813, marker error: RMS = 0.0208538, max = 0.0745677 (R.Acromium)\n",
      "[info] Frame 61 (t = 1.017):\t total squared error = 0.0136118, marker error: RMS = 0.0209545, max = 0.0743050 (R.Acromium)\n",
      "[info] Frame 62 (t = 1.033):\t total squared error = 0.0138946, marker error: RMS = 0.0211711, max = 0.0739949 (R.Acromium)\n",
      "[info] Frame 63 (t = 1.05):\t total squared error = 0.0138905, marker error: RMS = 0.0211679, max = 0.0736298 (R.Acromium)\n",
      "[info] Frame 64 (t = 1.067):\t total squared error = 0.0140538, marker error: RMS = 0.021292, max = 0.0725551 (R.Acromium)\n",
      "[info] Frame 65 (t = 1.083):\t total squared error = 0.0145082, marker error: RMS = 0.0216334, max = 0.0722249 (R.Acromium)\n",
      "[info] Frame 66 (t = 1.1):\t total squared error = 0.0143429, marker error: RMS = 0.0215099, max = 0.0718629 (R.Acromium)\n",
      "[info] Frame 67 (t = 1.117):\t total squared error = 0.0141506, marker error: RMS = 0.0213652, max = 0.0718264 (R.Acromium)\n",
      "[info] Frame 68 (t = 1.133):\t total squared error = 0.0136805, marker error: RMS = 0.0210073, max = 0.0715759 (R.Acromium)\n",
      "[info] Frame 69 (t = 1.15):\t total squared error = 0.0130281, marker error: RMS = 0.0205002, max = 0.0704719 (R.Acromium)\n",
      "[info] Frame 70 (t = 1.167):\t total squared error = 0.0129046, marker error: RMS = 0.0204029, max = 0.0712302 (R.Acromium)\n",
      "[info] Frame 71 (t = 1.183):\t total squared error = 0.0128735, marker error: RMS = 0.0203783, max = 0.0707700 (R.Acromium)\n",
      "[info] Frame 72 (t = 1.2):\t total squared error = 0.012991, marker error: RMS = 0.0204711, max = 0.0712865 (R.Acromium)\n",
      "[info] Frame 73 (t = 1.217):\t total squared error = 0.0131598, marker error: RMS = 0.0206037, max = 0.0715783 (R.Acromium)\n",
      "[info] Frame 74 (t = 1.233):\t total squared error = 0.0134372, marker error: RMS = 0.0208196, max = 0.0730860 (R.Acromium)\n",
      "[info] Frame 75 (t = 1.25):\t total squared error = 0.0137186, marker error: RMS = 0.0210365, max = 0.0735642 (R.Acromium)\n",
      "[info] Frame 76 (t = 1.267):\t total squared error = 0.0143568, marker error: RMS = 0.0215202, max = 0.0748599 (R.Acromium)\n",
      "[info] Frame 77 (t = 1.283):\t total squared error = 0.0148653, marker error: RMS = 0.0218981, max = 0.0762758 (R.Acromium)\n",
      "[info] Frame 78 (t = 1.3):\t total squared error = 0.0154745, marker error: RMS = 0.0223422, max = 0.0775367 (R.Acromium)\n",
      "[info] Frame 79 (t = 1.317):\t total squared error = 0.0162087, marker error: RMS = 0.0228662, max = 0.079392 (R.Acromium)\n",
      "[info] Frame 80 (t = 1.333):\t total squared error = 0.0164342, marker error: RMS = 0.0230246, max = 0.0797595 (R.Acromium)\n",
      "[info] Frame 81 (t = 1.35):\t total squared error = 0.0165645, marker error: RMS = 0.0231158, max = 0.0810882 (R.Acromium)\n",
      "[info] Frame 82 (t = 1.367):\t total squared error = 0.0161981, marker error: RMS = 0.0228587, max = 0.0810520 (R.Acromium)\n",
      "[info] Frame 83 (t = 1.383):\t total squared error = 0.0153333, marker error: RMS = 0.0222401, max = 0.0800825 (R.Acromium)\n",
      "[info] Frame 84 (t = 1.4):\t total squared error = 0.0141942, marker error: RMS = 0.0213981, max = 0.0793915 (R.Acromium)\n",
      "[info] Frame 85 (t = 1.417):\t total squared error = 0.0132381, marker error: RMS = 0.0206648, max = 0.0789787 (R.Acromium)\n",
      "[info] Frame 86 (t = 1.433):\t total squared error = 0.0129359, marker error: RMS = 0.0204276, max = 0.0779765 (R.Acromium)\n",
      "[info] Frame 87 (t = 1.45):\t total squared error = 0.0129058, marker error: RMS = 0.0204038, max = 0.0775162 (R.Acromium)\n",
      "[info] Frame 88 (t = 1.467):\t total squared error = 0.0132936, marker error: RMS = 0.0207081, max = 0.0780161 (R.Acromium)\n",
      "[info] Frame 89 (t = 1.483):\t total squared error = 0.013769, marker error: RMS = 0.0210751, max = 0.0780873 (R.Acromium)\n",
      "[info] Frame 90 (t = 1.5):\t total squared error = 0.0138431, marker error: RMS = 0.0211317, max = 0.0780643 (R.Acromium)\n",
      "[info] Frame 91 (t = 1.517):\t total squared error = 0.013868, marker error: RMS = 0.0211507, max = 0.0781039 (R.Acromium)\n",
      "[info] Frame 92 (t = 1.533):\t total squared error = 0.0138192, marker error: RMS = 0.0211135, max = 0.0778721 (R.Acromium)\n",
      "[info] Frame 93 (t = 1.55):\t total squared error = 0.0136545, marker error: RMS = 0.0209873, max = 0.0780352 (R.Acromium)\n",
      "[info] Frame 94 (t = 1.567):\t total squared error = 0.013674, marker error: RMS = 0.0210023, max = 0.0787806 (R.Acromium)\n",
      "[info] Frame 95 (t = 1.583):\t total squared error = 0.0136184, marker error: RMS = 0.0209596, max = 0.0790563 (R.Acromium)\n",
      "[info] Frame 96 (t = 1.6):\t total squared error = 0.013574, marker error: RMS = 0.0209254, max = 0.0792264 (R.Acromium)\n",
      "[info] InverseKinematicsTool completed 73 frames in 147 millisecond(s).\n"
     ]
    }
   ],
   "source": [
    "inverse_kinematics_tool.run()"
   ]
  },
  {
   "cell_type": "markdown",
   "metadata": {},
   "source": [
    "## Inverse Dynamics"
   ]
  },
  {
   "cell_type": "code",
   "execution_count": 13,
   "metadata": {},
   "outputs": [
    {
     "name": "stdout",
     "output_type": "stream",
     "text": [
      "Downloading...\n",
      "From: https://drive.google.com/uc?id=1aZJmbykxdTrC_Uo9oDO_9xgfTUmLzjpI&confirm=t\n",
      "To: /home/ubuntu/injury_detection/jupyter_notebooks/IK&ID/subject01_Setup_InverseDynamics.xml\n",
      "100%|██████████████████████████████████████| 1.65k/1.65k [00:00<00:00, 10.3MB/s]\n"
     ]
    }
   ],
   "source": [
    "# configuration file \n",
    "!gdown \"1aZJmbykxdTrC_Uo9oDO_9xgfTUmLzjpI&confirm=t\" # subject01_Setup_InverseDynamics.xml"
   ]
  },
  {
   "cell_type": "code",
   "execution_count": 14,
   "metadata": {},
   "outputs": [
    {
     "name": "stdout",
     "output_type": "stream",
     "text": [
      "Downloading...\n",
      "From: https://drive.google.com/uc?id=14aOk5udB8pgafettraCZgv3ULnAWzvyI&confirm=t\n",
      "To: /home/ubuntu/injury_detection/jupyter_notebooks/IK&ID/subject01_walk1_grf.xml\n",
      "100%|██████████████████████████████████████| 2.56k/2.56k [00:00<00:00, 17.7MB/s]\n"
     ]
    }
   ],
   "source": [
    "# external loads file that contains the external loads applied to the model\n",
    "!gdown \"14aOk5udB8pgafettraCZgv3ULnAWzvyI&confirm=t\" # subject01_walk1_grf.xml\\"
   ]
  },
  {
   "cell_type": "code",
   "execution_count": 15,
   "metadata": {},
   "outputs": [
    {
     "name": "stdout",
     "output_type": "stream",
     "text": [
      "Downloading...\n",
      "From: https://drive.google.com/uc?id=1m0PTgw8K1dW0koHhgn6Wfci0498JsGF-&confirm=t\n",
      "To: /home/ubuntu/injury_detection/jupyter_notebooks/IK&ID/subject01_walk1_grf.mot\n",
      "100%|████████████████████████████████████████| 224k/224k [00:00<00:00, 2.04MB/s]\n"
     ]
    }
   ],
   "source": [
    "# coordinates file that contains the coordinate data\n",
    "!gdown \"1m0PTgw8K1dW0koHhgn6Wfci0498JsGF-&confirm=t\" # subject01_walk1_grf.mot"
   ]
  },
  {
   "cell_type": "code",
   "execution_count": null,
   "metadata": {},
   "outputs": [
    {
     "name": "stdout",
     "output_type": "stream",
     "text": [
      "Name: subject01_walk1\n",
      "Model File: subject01_simbody.osim\n",
      "External Loads File: subject01_walk1_grf.xml\n",
      "Coordinates File: subject01_walk1_ik.mot\n",
      "Time Range: [ 0.4 , 1.6 ]\n",
      "Lowpass Cutoff Frecuency: 6.0\n",
      "\n"
     ]
    }
   ],
   "source": [
    "# Create an ID object using the configuration file.\n",
    "inverse_dynamics_tool = osim.InverseDynamicsTool('subject01_Setup_InverseDynamics.xml')\n",
    "\n",
    "# Print some information of the config file to check that everything is correct.\n",
    "print(\"Name:\", inverse_dynamics_tool.getName())\n",
    "print(\"Model File:\", inverse_dynamics_tool.getModelFileName())\n",
    "print(\"External Loads File:\", inverse_dynamics_tool.getExternalLoadsFileName())\n",
    "print(\"Coordinates File:\", inverse_dynamics_tool.getCoordinatesFileName())\n",
    "print(\"Time Range: [\", inverse_dynamics_tool.getStartTime(), \",\", inverse_dynamics_tool.getEndTime(), \"]\")\n",
    "print(\"Lowpass Cutoff Frecuency:\", inverse_dynamics_tool.getLowpassCutoffFrequency())\n",
    "print()"
   ]
  },
  {
   "cell_type": "code",
   "execution_count": 17,
   "metadata": {},
   "outputs": [
    {
     "name": "stdout",
     "output_type": "stream",
     "text": [
      "[info] Loaded model subject01 from file subject01_simbody.osim\n"
     ]
    },
    {
     "data": {
      "text/plain": [
       "True"
      ]
     },
     "execution_count": 17,
     "metadata": {},
     "output_type": "execute_result"
    },
    {
     "name": "stdout",
     "output_type": "stream",
     "text": [
      "[warning] Couldn't find file 'sacrum.vtp'.\n",
      "[warning] Couldn't find file 'pelvis.vtp'.\n",
      "[warning] Couldn't find file 'l_pelvis.vtp'.\n",
      "[warning] Couldn't find file 'femur_r.vtp'.\n",
      "[warning] Couldn't find file 'tibia_r.vtp'.\n",
      "[warning] Couldn't find file 'fibula.vtp'.\n",
      "[warning] Couldn't find file 'talus.vtp'.\n",
      "[warning] Couldn't find file 'foot.vtp'.\n",
      "[warning] Couldn't find file 'bofoot.vtp'.\n",
      "[warning] Couldn't find file 'femur_l.vtp'.\n",
      "[warning] Couldn't find file 'tibia_l.vtp'.\n",
      "[warning] Couldn't find file 'l_fibula.vtp'.\n",
      "[warning] Couldn't find file 'l_talus.vtp'.\n",
      "[warning] Couldn't find file 'l_foot.vtp'.\n",
      "[warning] Couldn't find file 'l_bofoot.vtp'.\n",
      "[warning] Couldn't find file 'hat_spine.vtp'.\n",
      "[warning] Couldn't find file 'hat_jaw.vtp'.\n",
      "[warning] Couldn't find file 'hat_skull.vtp'.\n",
      "[warning] Couldn't find file 'hat_ribs.vtp'.\n",
      "\n",
      "               MODEL: subject01\n",
      "         coordinates: 23\n",
      "              forces: 54\n",
      "           actuators: 54\n",
      "             muscles: 54\n",
      "            analyses: 0\n",
      "              probes: 0\n",
      "              bodies: 12\n",
      "              joints: 12\n",
      "         constraints: 0\n",
      "             markers: 39\n",
      "         controllers: 0\n",
      "  contact geometries: 0\n",
      "misc modelcomponents: 0\n",
      "[info] Running tool subject01_walk1...\n",
      "[info] ExternalLoads 'Ex2' was renamed and is being reset to 'externalloads'.\n",
      "[info] Storage: read data file = subject01_walk1_grf.mot (nr=1501 nc=19)\n",
      "[info] ExternalForce::right Data source being set to subject01_walk1_grf.mot\n",
      "[info] ExternalForce::left Data source being set to subject01_walk1_grf.mot\n",
      "[info] Storage: read data file = subject01_walk1_ik.mot (nr=73 nc=24)\n",
      "[info] Low-pass filtering coordinates data with a cutoff frequency of 6.0...\n",
      "[info] InverseDynamicsTool: 76 time frames in 93 millisecond(s).\n"
     ]
    }
   ],
   "source": [
    "inverse_dynamics_tool.run()"
   ]
  },
  {
   "cell_type": "markdown",
   "metadata": {},
   "source": [
    "## Visualize ID results"
   ]
  },
  {
   "cell_type": "code",
   "execution_count": 18,
   "metadata": {},
   "outputs": [
    {
     "name": "stdout",
     "output_type": "stream",
     "text": [
      "('pelvis_tilt_moment', 'pelvis_list_moment', 'pelvis_rotation_moment', 'pelvis_tx_force', 'pelvis_ty_force', 'pelvis_tz_force', 'hip_flexion_r_moment', 'hip_adduction_r_moment', 'hip_rotation_r_moment', 'hip_flexion_l_moment', 'hip_adduction_l_moment', 'hip_rotation_l_moment', 'lumbar_extension_moment', 'lumbar_bending_moment', 'lumbar_rotation_moment', 'knee_angle_r_moment', 'knee_angle_l_moment', 'ankle_angle_r_moment', 'ankle_angle_l_moment', 'subtalar_angle_r_moment', 'subtalar_angle_l_moment', 'mtp_angle_r_moment', 'mtp_angle_l_moment')\n"
     ]
    }
   ],
   "source": [
    "# Use the TableProcessor to read the motion file.\n",
    "table = osim.TableProcessor(\"ResultsInverseDynamics/inverse_dynamics.sto\")\n",
    "# Process the file.\n",
    "tableID = table.process()\n",
    "# Print labels for each column.\n",
    "print(tableID.getColumnLabels())"
   ]
  },
  {
   "cell_type": "code",
   "execution_count": 19,
   "metadata": {},
   "outputs": [],
   "source": [
    "# Get columns we want to represent, and the independent column (Time).\n",
    "ankle_angle_r_moment = tableID.getDependentColumn('ankle_angle_r_moment')\n",
    "ankle_angle_l_moment = tableID.getDependentColumn('ankle_angle_l_moment')\n",
    "x_time = tableID.getIndependentColumn()"
   ]
  },
  {
   "cell_type": "code",
   "execution_count": 20,
   "metadata": {},
   "outputs": [
    {
     "data": {
      "image/png": "[encoded data removed]",
      "text/plain": [
       "<Figure size 700x500 with 1 Axes>"
      ]
     },
     "metadata": {},
     "output_type": "display_data"
    }
   ],
   "source": [
    "import matplotlib.pyplot as plt\n",
    "import numpy as np\n",
    "\n",
    "# Create six subplots, with 2 rows and 3 columns.\n",
    "fig, axs = plt.subplots(1, 1, figsize=(7, 5))\n",
    "fig.suptitle('Ankle Angle Moment Comparison')\n",
    "\n",
    "# Plot the knee angles on the first subplot.\n",
    "axs.plot(x_time, ankle_angle_r_moment.to_numpy(), label='ankle_angle_r_moment')\n",
    "axs.plot(x_time, ankle_angle_l_moment.to_numpy(), label='ankle_angle_l_moment')\n",
    "axs.set_xlabel('Time')\n",
    "axs.set_ylabel('Moment')\n",
    "axs.grid()\n",
    "axs.legend()\n",
    "\n",
    "# Set the spacing between subplots\n",
    "plt.subplots_adjust(wspace=0.5, hspace=0.5)"
   ]
  },
  {
   "cell_type": "code",
   "execution_count": 21,
   "metadata": {},
   "outputs": [
    {
     "data": {
      "image/png": "[encoded data removed]",
      "text/plain": [
       "<Figure size 700x500 with 1 Axes>"
      ]
     },
     "metadata": {},
     "output_type": "display_data"
    }
   ],
   "source": [
    "import matplotlib.pyplot as plt\n",
    "import numpy as np\n",
    "\n",
    "# Get columns we want to represent, and the independent column (Time).\n",
    "pelvis_tx_force = tableID.getDependentColumn('pelvis_tx_force')\n",
    "pelvis_ty_force = tableID.getDependentColumn('pelvis_ty_force')\n",
    "pelvis_tz_force = tableID.getDependentColumn('pelvis_tz_force')\n",
    "x_time = tableID.getIndependentColumn()\n",
    "\n",
    "# Create six subplots, with 2 rows and 3 columns.\n",
    "fig, axs = plt.subplots(1, 1, figsize=(7, 5))\n",
    "fig.suptitle('Pelvis Force Residuals')\n",
    "\n",
    "# Plot the knee angles on the first subplot.\n",
    "axs.plot(x_time, pelvis_tx_force.to_numpy(), label='pelvis_tx_force')\n",
    "axs.plot(x_time, pelvis_ty_force.to_numpy(), label='pelvis_ty_force')\n",
    "axs.plot(x_time, pelvis_tz_force.to_numpy(), label='pelvis_tz_force')\n",
    "axs.set_xlabel('Time')\n",
    "axs.set_ylabel('Force')\n",
    "axs.grid()\n",
    "axs.legend()\n",
    "\n",
    "# Set the spacing between subplots\n",
    "plt.subplots_adjust(wspace=0.5, hspace=0.5)"
   ]
  }
 ],
 "metadata": {
  "kernelspec": {
   "display_name": "injury_detection",
   "language": "python",
   "name": "python3"
  },
  "language_info": {
   "codemirror_mode": {
    "name": "ipython",
    "version": 3
   },
   "file_extension": ".py",
   "mimetype": "text/x-python",
   "name": "python",
   "nbconvert_exporter": "python",
   "pygments_lexer": "ipython3",
   "version": "3.10.16"
  }
 },
 "nbformat": 4,
 "nbformat_minor": 2
}
